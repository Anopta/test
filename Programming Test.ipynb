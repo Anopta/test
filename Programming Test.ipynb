{
 "cells": [
  {
   "cell_type": "markdown",
   "metadata": {},
   "source": [
    "1.\tConstruct a Bread object defined in the link below using the factory method pattern. Then, implement a structure to print out each Bread attributes by iteration.\n",
    "-\tInput Json link\n",
    "https://drive.google.com/open?id=1CPt0YMDN6mOZR9NlwDZ-NdgCOZSGNiiM\n",
    "-\tOutput\n",
    "https://drive.google.com/open?id=13fe3eJQ4YdJ2wg0Nxyq_Uar7imCF5Pnd\n"
   ]
  },
  {
   "cell_type": "code",
   "execution_count": 1,
   "metadata": {},
   "outputs": [],
   "source": [
    "class Bread:\n",
    "    def __init__(self, breadType, breadTypeRecipes):\n",
    "        self.breadType = breadType\n",
    "        self.breadTypeRecipes = breadTypeRecipes\n",
    "        \n",
    "    def outPut(self):\n",
    "        print(f\"breadType: {self.breadType}\")\n",
    "        print(\"recipe\")\n",
    "        for key, item in self.breadTypeRecipes.items():\n",
    "            print(key, \" : \", item)  \n",
    "        print()\n",
    "\n",
    "creamBread = Bread(\"creamBread\", {\"flour\": 100, \"water\": 100, \"cream\": 200})\n",
    "sugarBread = Bread(\"sugarBread\", {\"flour\": 100, \"water\": 50, \"sugar\": 200})\n",
    "butterBread = Bread(\"butterBread\", {\"flour\": 100, \"water\": 100, \"butter\": 50})"
   ]
  },
  {
   "cell_type": "code",
   "execution_count": 2,
   "metadata": {},
   "outputs": [
    {
     "name": "stdout",
     "output_type": "stream",
     "text": [
      "breadType: creamBread\n",
      "recipe\n",
      "flour  :  100\n",
      "water  :  100\n",
      "cream  :  200\n",
      "\n",
      "breadType: sugarBread\n",
      "recipe\n",
      "flour  :  100\n",
      "water  :  50\n",
      "sugar  :  200\n",
      "\n",
      "breadType: butterBread\n",
      "recipe\n",
      "flour  :  100\n",
      "water  :  100\n",
      "butter  :  50\n",
      "\n"
     ]
    }
   ],
   "source": [
    "creamBread.outPut()\n",
    "sugarBread.outPut()\n",
    "butterBread.outPut()"
   ]
  },
  {
   "cell_type": "markdown",
   "metadata": {},
   "source": [
    "2.\tWrite ‘add’ function and ‘subtract’ function using method chaining syntax, which allows functions to be added by placing a period mark(“.”) like the source below."
   ]
  },
  {
   "cell_type": "code",
   "execution_count": 3,
   "metadata": {},
   "outputs": [],
   "source": [
    "class Calculator():\n",
    "    def __init__(self):\n",
    "        self.number = 0\n",
    "    def add(self, number):\n",
    "        self.number += number           \n",
    "        return self \n",
    "    def substract(self, number):\n",
    "        self.number -= number\n",
    "        return self   \n",
    "    def out(self):\n",
    "        return self.number"
   ]
  },
  {
   "cell_type": "code",
   "execution_count": 4,
   "metadata": {},
   "outputs": [
    {
     "data": {
      "text/plain": [
       "54"
      ]
     },
     "execution_count": 4,
     "metadata": {},
     "output_type": "execute_result"
    }
   ],
   "source": [
    "calculator1 = Calculator()\n",
    "calculator1.add(4).add(100).substract(50).out()"
   ]
  },
  {
   "cell_type": "code",
   "execution_count": 5,
   "metadata": {},
   "outputs": [
    {
     "data": {
      "text/plain": [
       "1014"
      ]
     },
     "execution_count": 5,
     "metadata": {},
     "output_type": "execute_result"
    }
   ],
   "source": [
    "calculator2 = Calculator()\n",
    "calculator2.add(5).add(9).add(1000).out()"
   ]
  },
  {
   "cell_type": "markdown",
   "metadata": {},
   "source": [
    "3.\tImplement a factorial function with a recursive algorithm."
   ]
  },
  {
   "cell_type": "code",
   "execution_count": 6,
   "metadata": {},
   "outputs": [
    {
     "data": {
      "text/plain": [
       "3628800"
      ]
     },
     "execution_count": 6,
     "metadata": {},
     "output_type": "execute_result"
    }
   ],
   "source": [
    "def factorial(n):\n",
    "    if n == 1:\n",
    "        return 1\n",
    "    return n * factorial(n-1)\n",
    "    \n",
    "factorial(10)"
   ]
  },
  {
   "cell_type": "markdown",
   "metadata": {},
   "source": [
    "4.\tIn question #3, too large inputs may cause Stack Overflow exception. Find a solution to this problem. Ex) factorial(1,000,000)"
   ]
  },
  {
   "cell_type": "code",
   "execution_count": 7,
   "metadata": {},
   "outputs": [
    {
     "data": {
      "text/plain": [
       "3628800"
      ]
     },
     "execution_count": 7,
     "metadata": {},
     "output_type": "execute_result"
    }
   ],
   "source": [
    "def factorial_1(n):\n",
    "    ans = 1\n",
    "    for i in range(1, n+1):\n",
    "        ans *= i\n",
    "    return ans\n",
    "\n",
    "factorial_1(10)"
   ]
  },
  {
   "cell_type": "markdown",
   "metadata": {},
   "source": [
    "5.\tThere is a digital pond which displays 0 and 1 instead of earth and water. Find the sum of the depths of water.\n",
    "-\tEach cells in the array represent earth or water. 0: earth, 1: water\n",
    "-\tThe depth of earth is always 0, and the initial depth of water is 1.\n",
    "-\tDuring the iteration, the present cell depth increases by 1 if the depth values of all four directions(left, right, upper, lower) are equal to or greater than itself.\n",
    "-\tReference link:\n",
    "https://drive.google.com/file/d/17BmLKbkQ2uINkcOtgnWHobLvxIfBYKXt/view?usp=sharing\n"
   ]
  },
  {
   "cell_type": "code",
   "execution_count": 9,
   "metadata": {},
   "outputs": [],
   "source": [
    "import numpy as np\n",
    "\n",
    "array=np.array([[0, 0, 0, 0, 0, 0, 0, 0, 0, 0],\n",
    "       [0, 0, 0, 0, 1, 0, 0, 0, 0, 0],\n",
    "       [0, 0, 0, 1, 1, 1, 0, 0, 0, 0],\n",
    "       [0, 1, 1, 1, 1, 1, 1, 1, 1, 0],\n",
    "       [0, 1, 1, 1, 1, 1, 1, 1, 1, 0],\n",
    "       [0, 1, 1, 1, 1, 1, 1, 1, 1, 0],\n",
    "       [0, 0, 1, 1, 1, 1, 1, 1, 0, 0],\n",
    "       [0, 0, 0, 1, 1, 1, 1, 0, 0, 0],\n",
    "       [0, 0, 0, 0, 1, 0, 0, 0, 0, 0],\n",
    "       [0, 0, 0, 0, 0, 0, 0, 0, 0, 0]])"
   ]
  },
  {
   "cell_type": "code",
   "execution_count": 10,
   "metadata": {},
   "outputs": [
    {
     "data": {
      "text/plain": [
       "array([[0, 0, 0, 0, 0, 0, 0, 0, 0, 0],\n",
       "       [0, 0, 0, 0, 1, 0, 0, 0, 0, 0],\n",
       "       [0, 0, 0, 1, 1, 1, 0, 0, 0, 0],\n",
       "       [0, 1, 1, 1, 1, 1, 1, 1, 1, 0],\n",
       "       [0, 1, 1, 1, 1, 1, 1, 1, 1, 0],\n",
       "       [0, 1, 1, 1, 1, 1, 1, 1, 1, 0],\n",
       "       [0, 0, 1, 1, 1, 1, 1, 1, 0, 0],\n",
       "       [0, 0, 0, 1, 1, 1, 1, 0, 0, 0],\n",
       "       [0, 0, 0, 0, 1, 0, 0, 0, 0, 0],\n",
       "       [0, 0, 0, 0, 0, 0, 0, 0, 0, 0]])"
      ]
     },
     "execution_count": 10,
     "metadata": {},
     "output_type": "execute_result"
    }
   ],
   "source": [
    "array"
   ]
  },
  {
   "cell_type": "code",
   "execution_count": 11,
   "metadata": {},
   "outputs": [
    {
     "name": "stdout",
     "output_type": "stream",
     "text": [
      "22\n"
     ]
    }
   ],
   "source": [
    "depth = 1\n",
    "# check = True\n",
    "\n",
    "for i in range(1, len(array[0]) - 1):\n",
    "    for j in range(1, len(array[0]) - 1):\n",
    "        if array[i][j] == 1:\n",
    "            cell = array[i][j]\n",
    "            if array[i][j-1] >= cell:\n",
    "                if array[i][j+1] >= cell:\n",
    "                    if array[i+1][j] >= cell:\n",
    "                        if array[i-1][j] >= cell:\n",
    "                            depth += 1\n",
    "print(depth)"
   ]
  },
  {
   "cell_type": "code",
   "execution_count": 12,
   "metadata": {},
   "outputs": [],
   "source": [
    "# optimized version"
   ]
  },
  {
   "cell_type": "code",
   "execution_count": 13,
   "metadata": {},
   "outputs": [
    {
     "name": "stdout",
     "output_type": "stream",
     "text": [
      "22\n"
     ]
    }
   ],
   "source": [
    "depth = 1\n",
    "# check = True\n",
    "\n",
    "for i in range(1, len(array[0]) - 1):\n",
    "    for j in range(1, len(array[0]) - 1):\n",
    "        if array[i][j] == 1:\n",
    "            cell = array[i][j]\n",
    "            if array[i][j-1] & array[i][j+1] & array[i+1][j] & array[i-1][j] >= cell:\n",
    "                depth += 1\n",
    "print(depth)"
   ]
  },
  {
   "cell_type": "code",
   "execution_count": null,
   "metadata": {},
   "outputs": [],
   "source": []
  }
 ],
 "metadata": {
  "kernelspec": {
   "display_name": "Python 3",
   "language": "python",
   "name": "python3"
  },
  "language_info": {
   "codemirror_mode": {
    "name": "ipython",
    "version": 3
   },
   "file_extension": ".py",
   "mimetype": "text/x-python",
   "name": "python",
   "nbconvert_exporter": "python",
   "pygments_lexer": "ipython3",
   "version": "3.7.9"
  }
 },
 "nbformat": 4,
 "nbformat_minor": 4
}
